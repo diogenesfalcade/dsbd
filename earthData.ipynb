{
 "cells": [
  {
   "cell_type": "code",
   "execution_count": 1,
   "metadata": {},
   "outputs": [
    {
     "name": "stdout",
     "output_type": "stream",
     "text": [
      "Dataset URL: https://www.kaggle.com/datasets/berkeleyearth/climate-change-earth-surface-temperature-data\n",
      "Download concluído!\n"
     ]
    }
   ],
   "source": [
    "import kaggle\n",
    "\n",
    "# Baixa o dataset para o diretório atual\n",
    "kaggle.api.dataset_download_files('berkeleyearth/climate-change-earth-surface-temperature-data', path='.', unzip=True)\n",
    "\n",
    "print(\"Download concluído!\")\n"
   ]
  },
  {
   "cell_type": "code",
   "execution_count": 2,
   "metadata": {},
   "outputs": [],
   "source": [
    "import pandas as pd"
   ]
  },
  {
   "cell_type": "code",
   "execution_count": 3,
   "metadata": {},
   "outputs": [],
   "source": [
    "globalTemperature = pd.read_csv('GlobalTemperatures.csv')"
   ]
  },
  {
   "cell_type": "code",
   "execution_count": null,
   "metadata": {},
   "outputs": [
    {
     "data": {
      "text/plain": [
       "dt                                           1750-01-011750-02-011750-03-011750-04-011750-0...\n",
       "LandAverageTemperature                                                               26631.645\n",
       "LandAverageTemperatureUncertainty                                                     2984.328\n",
       "LandMaxTemperature                                                                   28586.397\n",
       "LandMaxTemperatureUncertainty                                                          955.725\n",
       "LandMinTemperature                                                                    5465.242\n",
       "LandMinTemperatureUncertainty                                                          860.243\n",
       "LandAndOceanAverageTemperature                                                       30303.431\n",
       "LandAndOceanAverageTemperatureUncertainty                                              256.036\n",
       "dtype: object"
      ]
     },
     "execution_count": 7,
     "metadata": {},
     "output_type": "execute_result"
    }
   ],
   "source": [
    "import plotly.express as px\n",
    "import pandas as pd\n",
    "\n",
    "# Carregar os dados\n",
    "df = pd.read_csv('climate_data.csv')\n",
    "\n",
    "# Gráfico de linhas\n",
    "fig = px.line(df, x='dt', y=['LandAverageTemperature', 'LandAndOceanAverageTemperature'], \n",
    "              labels={'value': 'Temperature (°C)', 'dt': 'Date'}, \n",
    "              title='Average Temperatures Over Time (Land and Land+Ocean)')\n",
    "\n",
    "fig.show()\n"
   ]
  }
 ],
 "metadata": {
  "kernelspec": {
   "display_name": "Python 3",
   "language": "python",
   "name": "python3"
  },
  "language_info": {
   "codemirror_mode": {
    "name": "ipython",
    "version": 3
   },
   "file_extension": ".py",
   "mimetype": "text/x-python",
   "name": "python",
   "nbconvert_exporter": "python",
   "pygments_lexer": "ipython3",
   "version": "3.11.4"
  }
 },
 "nbformat": 4,
 "nbformat_minor": 2
}
